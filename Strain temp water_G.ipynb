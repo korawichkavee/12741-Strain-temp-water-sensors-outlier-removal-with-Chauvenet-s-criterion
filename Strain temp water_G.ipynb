{
 "cells": [
  {
   "cell_type": "code",
   "execution_count": 16,
   "metadata": {},
   "outputs": [
    {
     "data": {
      "text/html": [
       "<div>\n",
       "<style scoped>\n",
       "    .dataframe tbody tr th:only-of-type {\n",
       "        vertical-align: middle;\n",
       "    }\n",
       "\n",
       "    .dataframe tbody tr th {\n",
       "        vertical-align: top;\n",
       "    }\n",
       "\n",
       "    .dataframe thead th {\n",
       "        text-align: right;\n",
       "    }\n",
       "</style>\n",
       "<table border=\"1\" class=\"dataframe\">\n",
       "  <thead>\n",
       "    <tr style=\"text-align: right;\">\n",
       "      <th></th>\n",
       "      <th>t_minute</th>\n",
       "      <th>W_Level_m</th>\n",
       "      <th>Temp_c</th>\n",
       "      <th>micro_strain</th>\n",
       "    </tr>\n",
       "  </thead>\n",
       "  <tbody>\n",
       "    <tr>\n",
       "      <th>0</th>\n",
       "      <td>0.0</td>\n",
       "      <td>-7.317645</td>\n",
       "      <td>0.372449</td>\n",
       "      <td>16.774547</td>\n",
       "    </tr>\n",
       "    <tr>\n",
       "      <th>1</th>\n",
       "      <td>144.0</td>\n",
       "      <td>-7.232018</td>\n",
       "      <td>-0.754370</td>\n",
       "      <td>19.498479</td>\n",
       "    </tr>\n",
       "    <tr>\n",
       "      <th>2</th>\n",
       "      <td>288.0</td>\n",
       "      <td>-6.477226</td>\n",
       "      <td>1.109975</td>\n",
       "      <td>49.871754</td>\n",
       "    </tr>\n",
       "    <tr>\n",
       "      <th>3</th>\n",
       "      <td>432.0</td>\n",
       "      <td>-7.146589</td>\n",
       "      <td>1.569678</td>\n",
       "      <td>28.395637</td>\n",
       "    </tr>\n",
       "    <tr>\n",
       "      <th>4</th>\n",
       "      <td>576.0</td>\n",
       "      <td>-7.253274</td>\n",
       "      <td>4.265809</td>\n",
       "      <td>10.035322</td>\n",
       "    </tr>\n",
       "    <tr>\n",
       "      <th>...</th>\n",
       "      <td>...</td>\n",
       "      <td>...</td>\n",
       "      <td>...</td>\n",
       "      <td>...</td>\n",
       "    </tr>\n",
       "    <tr>\n",
       "      <th>3646</th>\n",
       "      <td>525024.0</td>\n",
       "      <td>-7.860808</td>\n",
       "      <td>0.752731</td>\n",
       "      <td>-0.671496</td>\n",
       "    </tr>\n",
       "    <tr>\n",
       "      <th>3647</th>\n",
       "      <td>525168.0</td>\n",
       "      <td>-7.803942</td>\n",
       "      <td>-1.444742</td>\n",
       "      <td>-1.995406</td>\n",
       "    </tr>\n",
       "    <tr>\n",
       "      <th>3648</th>\n",
       "      <td>525312.0</td>\n",
       "      <td>-7.721651</td>\n",
       "      <td>-1.365997</td>\n",
       "      <td>-21.020292</td>\n",
       "    </tr>\n",
       "    <tr>\n",
       "      <th>3649</th>\n",
       "      <td>525456.0</td>\n",
       "      <td>-8.085533</td>\n",
       "      <td>1.090953</td>\n",
       "      <td>-6.944226</td>\n",
       "    </tr>\n",
       "    <tr>\n",
       "      <th>3650</th>\n",
       "      <td>525600.0</td>\n",
       "      <td>-7.660528</td>\n",
       "      <td>4.219024</td>\n",
       "      <td>4.807055</td>\n",
       "    </tr>\n",
       "  </tbody>\n",
       "</table>\n",
       "<p>3651 rows × 4 columns</p>\n",
       "</div>"
      ],
      "text/plain": [
       "      t_minute  W_Level_m    Temp_c  micro_strain\n",
       "0          0.0  -7.317645  0.372449     16.774547\n",
       "1        144.0  -7.232018 -0.754370     19.498479\n",
       "2        288.0  -6.477226  1.109975     49.871754\n",
       "3        432.0  -7.146589  1.569678     28.395637\n",
       "4        576.0  -7.253274  4.265809     10.035322\n",
       "...        ...        ...       ...           ...\n",
       "3646  525024.0  -7.860808  0.752731     -0.671496\n",
       "3647  525168.0  -7.803942 -1.444742     -1.995406\n",
       "3648  525312.0  -7.721651 -1.365997    -21.020292\n",
       "3649  525456.0  -8.085533  1.090953     -6.944226\n",
       "3650  525600.0  -7.660528  4.219024      4.807055\n",
       "\n",
       "[3651 rows x 4 columns]"
      ]
     },
     "execution_count": 16,
     "metadata": {},
     "output_type": "execute_result"
    }
   ],
   "source": [
    "import pandas as pd\n",
    "import numpy as np\n",
    "df = pd.read_csv(\"Water_Temp_Strain.txt\",sep='\\t',header=None)\n",
    "df.rename(columns={0: 'W_Level_m'}, inplace=True)\n",
    "df.rename(columns={1: 'Temp_c'}, inplace=True)\n",
    "df.rename(columns={2: 'micro_strain'}, inplace=True)\n",
    "\n",
    "#add time component to data frame\n",
    "delta_t = 144 #min \n",
    "t_st = 0\n",
    "t_fi = delta_t*(len(df)-1)\n",
    "time_array = np.linspace(t_st, t_fi, len(df), endpoint=True)\n",
    "df.insert (0, \"t_minute\", time_array)\n",
    "df"
   ]
  },
  {
   "cell_type": "code",
   "execution_count": 17,
   "metadata": {},
   "outputs": [],
   "source": [
    "df=df.drop(columns=['Temp_c'])"
   ]
  },
  {
   "cell_type": "code",
   "execution_count": 18,
   "metadata": {},
   "outputs": [
    {
     "name": "stdout",
     "output_type": "stream",
     "text": [
      "This is y\n",
      "[ 16.77454715  19.49847855  49.87175411 ... -21.02029241  -6.94422611\n",
      "   4.80705458]\n",
      "This is A\n",
      "[[ 0.00000000e+00  1.00000000e+00 -7.31764510e+00]\n",
      " [ 1.44000000e+02  1.00000000e+00 -7.23201755e+00]\n",
      " [ 2.88000000e+02  1.00000000e+00 -6.47722629e+00]\n",
      " ...\n",
      " [ 5.25312000e+05  1.00000000e+00 -7.72165131e+00]\n",
      " [ 5.25456000e+05  1.00000000e+00 -8.08553348e+00]\n",
      " [ 5.25600000e+05  1.00000000e+00 -7.66052752e+00]]\n"
     ]
    }
   ],
   "source": [
    "#form a matrix y\n",
    "y = df['micro_strain'].to_numpy()\n",
    "#y = np.transpose(y)\n",
    "#form a matrix A\n",
    "df[\"1\"]=1\n",
    "A = df[[\"t_minute\",\"1\",\"W_Level_m\"]].to_numpy()\n",
    "#A = np.transpose(A)\n",
    "print(\"This is y\")\n",
    "print(y)\n",
    "print(\"This is A\")\n",
    "print(A)\n"
   ]
  },
  {
   "cell_type": "code",
   "execution_count": 19,
   "metadata": {},
   "outputs": [
    {
     "name": "stdout",
     "output_type": "stream",
     "text": [
      "This is A_transpose\n",
      "[[ 0.00000000e+00  1.44000000e+02  2.88000000e+02 ...  5.25312000e+05\n",
      "   5.25456000e+05  5.25600000e+05]\n",
      " [ 1.00000000e+00  1.00000000e+00  1.00000000e+00 ...  1.00000000e+00\n",
      "   1.00000000e+00  1.00000000e+00]\n",
      " [-7.31764510e+00 -7.23201755e+00 -6.47722629e+00 ... -7.72165131e+00\n",
      "  -8.08553348e+00 -7.66052752e+00]]\n",
      "This is w_hat\n",
      "[-4.68077456e-04 -4.87136174e+02 -6.11351897e+01]\n"
     ]
    }
   ],
   "source": [
    "#form a A_transpose\n",
    "A_transpose = np.transpose(A)\n",
    "print(\"This is A_transpose\")\n",
    "print(A_transpose)\n",
    "#form a A_plus\n",
    "A_plus = np.matmul(np.linalg.inv(np.matmul(A_transpose,A)),A_transpose)\n",
    "w_hat = np.matmul(A_plus,y)\n",
    "print(\"This is w_hat\")\n",
    "print(w_hat)\n"
   ]
  },
  {
   "cell_type": "code",
   "execution_count": 20,
   "metadata": {},
   "outputs": [],
   "source": [
    "alph = w_hat[0]\n",
    "beta = w_hat[1]\n",
    "delt = w_hat[2]"
   ]
  },
  {
   "cell_type": "code",
   "execution_count": 21,
   "metadata": {},
   "outputs": [
    {
     "data": {
      "text/plain": [
       "-488.5404060092644"
      ]
     },
     "execution_count": 21,
     "metadata": {},
     "output_type": "execute_result"
    }
   ],
   "source": [
    "def q_t(time):\n",
    "    q = alph*time+beta\n",
    "    return q\n",
    "q_t(3000)"
   ]
  },
  {
   "cell_type": "code",
   "execution_count": 22,
   "metadata": {},
   "outputs": [
    {
     "data": {
      "text/plain": [
       "-1717.243727859773"
      ]
     },
     "execution_count": 22,
     "metadata": {},
     "output_type": "execute_result"
    }
   ],
   "source": [
    "def min_from_year(y):\n",
    "    minute = y*365*24*60\n",
    "    return minute\n",
    "q_t(min_from_year(5))"
   ]
  },
  {
   "cell_type": "code",
   "execution_count": 23,
   "metadata": {},
   "outputs": [
    {
     "name": "stdout",
     "output_type": "stream",
     "text": [
      "[ 56.54509921  64.5712906  141.15627634 ... 239.9379679  231.83543212\n",
      " 269.63693579]\n"
     ]
    }
   ],
   "source": [
    "#residual\n",
    "r = y - np.matmul(A,w_hat)\n",
    "df['r']=r\n",
    "print(r)"
   ]
  },
  {
   "cell_type": "code",
   "execution_count": 24,
   "metadata": {},
   "outputs": [
    {
     "data": {
      "text/html": [
       "<style  type=\"text/css\" >\n",
       "</style><table id=\"T_20135_\" ><thead>    <tr>        <th class=\"blank level0\" ></th>        <th class=\"col_heading level0 col0\" >t_minute</th>        <th class=\"col_heading level0 col1\" >W_Level_m</th>        <th class=\"col_heading level0 col2\" >micro_strain</th>        <th class=\"col_heading level0 col3\" >1</th>        <th class=\"col_heading level0 col4\" >r</th>    </tr></thead><tbody>\n",
       "                <tr>\n",
       "                        <th id=\"T_20135_level0_row0\" class=\"row_heading level0 row0\" >0</th>\n",
       "                        <td id=\"T_20135_row0_col0\" class=\"data row0 col0\" >0.00</td>\n",
       "                        <td id=\"T_20135_row0_col1\" class=\"data row0 col1\" >-7.32</td>\n",
       "                        <td id=\"T_20135_row0_col2\" class=\"data row0 col2\" >16.77</td>\n",
       "                        <td id=\"T_20135_row0_col3\" class=\"data row0 col3\" >1.00</td>\n",
       "                        <td id=\"T_20135_row0_col4\" class=\"data row0 col4\" >56.55</td>\n",
       "            </tr>\n",
       "            <tr>\n",
       "                        <th id=\"T_20135_level0_row1\" class=\"row_heading level0 row1\" >1</th>\n",
       "                        <td id=\"T_20135_row1_col0\" class=\"data row1 col0\" >144.00</td>\n",
       "                        <td id=\"T_20135_row1_col1\" class=\"data row1 col1\" >-7.23</td>\n",
       "                        <td id=\"T_20135_row1_col2\" class=\"data row1 col2\" >19.50</td>\n",
       "                        <td id=\"T_20135_row1_col3\" class=\"data row1 col3\" >1.00</td>\n",
       "                        <td id=\"T_20135_row1_col4\" class=\"data row1 col4\" >64.57</td>\n",
       "            </tr>\n",
       "            <tr>\n",
       "                        <th id=\"T_20135_level0_row2\" class=\"row_heading level0 row2\" >2</th>\n",
       "                        <td id=\"T_20135_row2_col0\" class=\"data row2 col0\" >288.00</td>\n",
       "                        <td id=\"T_20135_row2_col1\" class=\"data row2 col1\" >-6.48</td>\n",
       "                        <td id=\"T_20135_row2_col2\" class=\"data row2 col2\" >49.87</td>\n",
       "                        <td id=\"T_20135_row2_col3\" class=\"data row2 col3\" >1.00</td>\n",
       "                        <td id=\"T_20135_row2_col4\" class=\"data row2 col4\" >141.16</td>\n",
       "            </tr>\n",
       "            <tr>\n",
       "                        <th id=\"T_20135_level0_row3\" class=\"row_heading level0 row3\" >3</th>\n",
       "                        <td id=\"T_20135_row3_col0\" class=\"data row3 col0\" >432.00</td>\n",
       "                        <td id=\"T_20135_row3_col1\" class=\"data row3 col1\" >-7.15</td>\n",
       "                        <td id=\"T_20135_row3_col2\" class=\"data row3 col2\" >28.40</td>\n",
       "                        <td id=\"T_20135_row3_col3\" class=\"data row3 col3\" >1.00</td>\n",
       "                        <td id=\"T_20135_row3_col4\" class=\"data row3 col4\" >78.83</td>\n",
       "            </tr>\n",
       "            <tr>\n",
       "                        <th id=\"T_20135_level0_row4\" class=\"row_heading level0 row4\" >4</th>\n",
       "                        <td id=\"T_20135_row4_col0\" class=\"data row4 col0\" >576.00</td>\n",
       "                        <td id=\"T_20135_row4_col1\" class=\"data row4 col1\" >-7.25</td>\n",
       "                        <td id=\"T_20135_row4_col2\" class=\"data row4 col2\" >10.04</td>\n",
       "                        <td id=\"T_20135_row4_col3\" class=\"data row4 col3\" >1.00</td>\n",
       "                        <td id=\"T_20135_row4_col4\" class=\"data row4 col4\" >54.01</td>\n",
       "            </tr>\n",
       "            <tr>\n",
       "                        <th id=\"T_20135_level0_row5\" class=\"row_heading level0 row5\" >5</th>\n",
       "                        <td id=\"T_20135_row5_col0\" class=\"data row5 col0\" >720.00</td>\n",
       "                        <td id=\"T_20135_row5_col1\" class=\"data row5 col1\" >-7.44</td>\n",
       "                        <td id=\"T_20135_row5_col2\" class=\"data row5 col2\" >5.51</td>\n",
       "                        <td id=\"T_20135_row5_col3\" class=\"data row5 col3\" >1.00</td>\n",
       "                        <td id=\"T_20135_row5_col4\" class=\"data row5 col4\" >38.31</td>\n",
       "            </tr>\n",
       "            <tr>\n",
       "                        <th id=\"T_20135_level0_row6\" class=\"row_heading level0 row6\" >6</th>\n",
       "                        <td id=\"T_20135_row6_col0\" class=\"data row6 col0\" >864.00</td>\n",
       "                        <td id=\"T_20135_row6_col1\" class=\"data row6 col1\" >-6.63</td>\n",
       "                        <td id=\"T_20135_row6_col2\" class=\"data row6 col2\" >-8.19</td>\n",
       "                        <td id=\"T_20135_row6_col3\" class=\"data row6 col3\" >1.00</td>\n",
       "                        <td id=\"T_20135_row6_col4\" class=\"data row6 col4\" >73.76</td>\n",
       "            </tr>\n",
       "            <tr>\n",
       "                        <th id=\"T_20135_level0_row7\" class=\"row_heading level0 row7\" >7</th>\n",
       "                        <td id=\"T_20135_row7_col0\" class=\"data row7 col0\" >1,008.00</td>\n",
       "                        <td id=\"T_20135_row7_col1\" class=\"data row7 col1\" >-7.17</td>\n",
       "                        <td id=\"T_20135_row7_col2\" class=\"data row7 col2\" >18.84</td>\n",
       "                        <td id=\"T_20135_row7_col3\" class=\"data row7 col3\" >1.00</td>\n",
       "                        <td id=\"T_20135_row7_col4\" class=\"data row7 col4\" >68.01</td>\n",
       "            </tr>\n",
       "            <tr>\n",
       "                        <th id=\"T_20135_level0_row8\" class=\"row_heading level0 row8\" >8</th>\n",
       "                        <td id=\"T_20135_row8_col0\" class=\"data row8 col0\" >1,152.00</td>\n",
       "                        <td id=\"T_20135_row8_col1\" class=\"data row8 col1\" >-6.87</td>\n",
       "                        <td id=\"T_20135_row8_col2\" class=\"data row8 col2\" >4.11</td>\n",
       "                        <td id=\"T_20135_row8_col3\" class=\"data row8 col3\" >1.00</td>\n",
       "                        <td id=\"T_20135_row8_col4\" class=\"data row8 col4\" >71.83</td>\n",
       "            </tr>\n",
       "            <tr>\n",
       "                        <th id=\"T_20135_level0_row9\" class=\"row_heading level0 row9\" >9</th>\n",
       "                        <td id=\"T_20135_row9_col0\" class=\"data row9 col0\" >1,296.00</td>\n",
       "                        <td id=\"T_20135_row9_col1\" class=\"data row9 col1\" >-6.76</td>\n",
       "                        <td id=\"T_20135_row9_col2\" class=\"data row9 col2\" >20.30</td>\n",
       "                        <td id=\"T_20135_row9_col3\" class=\"data row9 col3\" >1.00</td>\n",
       "                        <td id=\"T_20135_row9_col4\" class=\"data row9 col4\" >94.50</td>\n",
       "            </tr>\n",
       "    </tbody></table>"
      ],
      "text/plain": [
       "<pandas.io.formats.style.Styler at 0x2775570a8e0>"
      ]
     },
     "execution_count": 24,
     "metadata": {},
     "output_type": "execute_result"
    }
   ],
   "source": [
    "df.head(10).style.format('{0:,.2f}')"
   ]
  },
  {
   "cell_type": "code",
   "execution_count": 25,
   "metadata": {},
   "outputs": [
    {
     "data": {
      "text/plain": [
       "<AxesSubplot:xlabel='t_minute', ylabel='r'>"
      ]
     },
     "execution_count": 25,
     "metadata": {},
     "output_type": "execute_result"
    },
    {
     "data": {
      "image/png": "[encoded data removed]",
      "text/plain": [
       "<Figure size 432x288 with 1 Axes>"
      ]
     },
     "metadata": {
      "needs_background": "light"
     },
     "output_type": "display_data"
    }
   ],
   "source": [
    "import seaborn as sns\n",
    "sns.scatterplot(data=df, x=\"t_minute\", y=\"r\")"
   ]
  },
  {
   "cell_type": "code",
   "execution_count": 26,
   "metadata": {},
   "outputs": [
    {
     "name": "stdout",
     "output_type": "stream",
     "text": [
      "2\n",
      "12\n",
      "3\n",
      "1\n",
      "0\n"
     ]
    },
    {
     "name": "stderr",
     "output_type": "stream",
     "text": [
      "<ipython-input-26-b85348218f72>:25: SettingWithCopyWarning: \n",
      "A value is trying to be set on a copy of a slice from a DataFrame.\n",
      "Try using .loc[row_indexer,col_indexer] = value instead\n",
      "\n",
      "See the caveats in the documentation: https://pandas.pydata.org/pandas-docs/stable/user_guide/indexing.html#returning-a-view-versus-a-copy\n",
      "  df_e['r']=r\n",
      "<ipython-input-26-b85348218f72>:10: SettingWithCopyWarning: \n",
      "A value is trying to be set on a copy of a slice from a DataFrame.\n",
      "Try using .loc[row_indexer,col_indexer] = value instead\n",
      "\n",
      "See the caveats in the documentation: https://pandas.pydata.org/pandas-docs/stable/user_guide/indexing.html#returning-a-view-versus-a-copy\n",
      "  df_e['d'] = np.absolute(df_e['r'].to_numpy()-r_mean)/r_stdv\n"
     ]
    },
    {
     "data": {
      "text/html": [
       "<div>\n",
       "<style scoped>\n",
       "    .dataframe tbody tr th:only-of-type {\n",
       "        vertical-align: middle;\n",
       "    }\n",
       "\n",
       "    .dataframe tbody tr th {\n",
       "        vertical-align: top;\n",
       "    }\n",
       "\n",
       "    .dataframe thead th {\n",
       "        text-align: right;\n",
       "    }\n",
       "</style>\n",
       "<table border=\"1\" class=\"dataframe\">\n",
       "  <thead>\n",
       "    <tr style=\"text-align: right;\">\n",
       "      <th></th>\n",
       "      <th>t_minute</th>\n",
       "      <th>W_Level_m</th>\n",
       "      <th>micro_strain</th>\n",
       "      <th>1</th>\n",
       "      <th>r</th>\n",
       "      <th>d</th>\n",
       "    </tr>\n",
       "  </thead>\n",
       "  <tbody>\n",
       "    <tr>\n",
       "      <th>2499</th>\n",
       "      <td>359856.0</td>\n",
       "      <td>-9.546883</td>\n",
       "      <td>-13249.534019</td>\n",
       "      <td>1</td>\n",
       "      <td>-13177.607867</td>\n",
       "      <td>4.000536</td>\n",
       "    </tr>\n",
       "    <tr>\n",
       "      <th>3049</th>\n",
       "      <td>439056.0</td>\n",
       "      <td>-8.371391</td>\n",
       "      <td>-198650.876347</td>\n",
       "      <td>1</td>\n",
       "      <td>-198470.014548</td>\n",
       "      <td>60.252693</td>\n",
       "    </tr>\n",
       "    <tr>\n",
       "      <th>49</th>\n",
       "      <td>7056.0</td>\n",
       "      <td>-7.063081</td>\n",
       "      <td>162.453175</td>\n",
       "      <td>1</td>\n",
       "      <td>134.043832</td>\n",
       "      <td>8.334101</td>\n",
       "    </tr>\n",
       "    <tr>\n",
       "      <th>199</th>\n",
       "      <td>28656.0</td>\n",
       "      <td>-8.437181</td>\n",
       "      <td>108.528192</td>\n",
       "      <td>1</td>\n",
       "      <td>68.995189</td>\n",
       "      <td>4.289738</td>\n",
       "    </tr>\n",
       "    <tr>\n",
       "      <th>349</th>\n",
       "      <td>50256.0</td>\n",
       "      <td>-8.590828</td>\n",
       "      <td>130.877250</td>\n",
       "      <td>1</td>\n",
       "      <td>91.668302</td>\n",
       "      <td>5.699426</td>\n",
       "    </tr>\n",
       "    <tr>\n",
       "      <th>499</th>\n",
       "      <td>71856.0</td>\n",
       "      <td>-9.240080</td>\n",
       "      <td>149.463749</td>\n",
       "      <td>1</td>\n",
       "      <td>105.930130</td>\n",
       "      <td>6.586147</td>\n",
       "    </tr>\n",
       "    <tr>\n",
       "      <th>598</th>\n",
       "      <td>86112.0</td>\n",
       "      <td>-10.193976</td>\n",
       "      <td>-7.699263</td>\n",
       "      <td>1</td>\n",
       "      <td>-59.015262</td>\n",
       "      <td>3.669241</td>\n",
       "    </tr>\n",
       "    <tr>\n",
       "      <th>599</th>\n",
       "      <td>86256.0</td>\n",
       "      <td>-9.198203</td>\n",
       "      <td>129.261561</td>\n",
       "      <td>1</td>\n",
       "      <td>87.297576</td>\n",
       "      <td>5.427678</td>\n",
       "    </tr>\n",
       "    <tr>\n",
       "      <th>1419</th>\n",
       "      <td>204336.0</td>\n",
       "      <td>-11.393374</td>\n",
       "      <td>4.615501</td>\n",
       "      <td>1</td>\n",
       "      <td>-48.288948</td>\n",
       "      <td>3.002339</td>\n",
       "    </tr>\n",
       "    <tr>\n",
       "      <th>2199</th>\n",
       "      <td>316656.0</td>\n",
       "      <td>-10.211957</td>\n",
       "      <td>-79.225111</td>\n",
       "      <td>1</td>\n",
       "      <td>-111.868716</td>\n",
       "      <td>6.955375</td>\n",
       "    </tr>\n",
       "    <tr>\n",
       "      <th>2959</th>\n",
       "      <td>426096.0</td>\n",
       "      <td>-9.841165</td>\n",
       "      <td>-159.829039</td>\n",
       "      <td>1</td>\n",
       "      <td>-180.050750</td>\n",
       "      <td>11.194555</td>\n",
       "    </tr>\n",
       "    <tr>\n",
       "      <th>2969</th>\n",
       "      <td>427536.0</td>\n",
       "      <td>-9.084614</td>\n",
       "      <td>-249.912197</td>\n",
       "      <td>1</td>\n",
       "      <td>-262.919856</td>\n",
       "      <td>16.346896</td>\n",
       "    </tr>\n",
       "    <tr>\n",
       "      <th>3199</th>\n",
       "      <td>460656.0</td>\n",
       "      <td>-8.680343</td>\n",
       "      <td>-51.002423</td>\n",
       "      <td>1</td>\n",
       "      <td>-57.511357</td>\n",
       "      <td>3.575737</td>\n",
       "    </tr>\n",
       "    <tr>\n",
       "      <th>3299</th>\n",
       "      <td>475056.0</td>\n",
       "      <td>-8.755255</td>\n",
       "      <td>-200.202596</td>\n",
       "      <td>1</td>\n",
       "      <td>-206.237364</td>\n",
       "      <td>12.822693</td>\n",
       "    </tr>\n",
       "    <tr>\n",
       "      <th>872</th>\n",
       "      <td>125568.0</td>\n",
       "      <td>-9.963551</td>\n",
       "      <td>93.808116</td>\n",
       "      <td>1</td>\n",
       "      <td>48.073492</td>\n",
       "      <td>3.399269</td>\n",
       "    </tr>\n",
       "    <tr>\n",
       "      <th>2426</th>\n",
       "      <td>349344.0</td>\n",
       "      <td>-10.180798</td>\n",
       "      <td>-15.949644</td>\n",
       "      <td>1</td>\n",
       "      <td>-46.113737</td>\n",
       "      <td>3.260695</td>\n",
       "    </tr>\n",
       "    <tr>\n",
       "      <th>2437</th>\n",
       "      <td>350928.0</td>\n",
       "      <td>-9.968694</td>\n",
       "      <td>-15.230675</td>\n",
       "      <td>1</td>\n",
       "      <td>-43.242258</td>\n",
       "      <td>3.057653</td>\n",
       "    </tr>\n",
       "    <tr>\n",
       "      <th>46</th>\n",
       "      <td>6624.0</td>\n",
       "      <td>-7.387905</td>\n",
       "      <td>-11.921038</td>\n",
       "      <td>1</td>\n",
       "      <td>-42.355944</td>\n",
       "      <td>3.006822</td>\n",
       "    </tr>\n",
       "  </tbody>\n",
       "</table>\n",
       "</div>"
      ],
      "text/plain": [
       "      t_minute  W_Level_m   micro_strain  1              r          d\n",
       "2499  359856.0  -9.546883  -13249.534019  1  -13177.607867   4.000536\n",
       "3049  439056.0  -8.371391 -198650.876347  1 -198470.014548  60.252693\n",
       "49      7056.0  -7.063081     162.453175  1     134.043832   8.334101\n",
       "199    28656.0  -8.437181     108.528192  1      68.995189   4.289738\n",
       "349    50256.0  -8.590828     130.877250  1      91.668302   5.699426\n",
       "499    71856.0  -9.240080     149.463749  1     105.930130   6.586147\n",
       "598    86112.0 -10.193976      -7.699263  1     -59.015262   3.669241\n",
       "599    86256.0  -9.198203     129.261561  1      87.297576   5.427678\n",
       "1419  204336.0 -11.393374       4.615501  1     -48.288948   3.002339\n",
       "2199  316656.0 -10.211957     -79.225111  1    -111.868716   6.955375\n",
       "2959  426096.0  -9.841165    -159.829039  1    -180.050750  11.194555\n",
       "2969  427536.0  -9.084614    -249.912197  1    -262.919856  16.346896\n",
       "3199  460656.0  -8.680343     -51.002423  1     -57.511357   3.575737\n",
       "3299  475056.0  -8.755255    -200.202596  1    -206.237364  12.822693\n",
       "872   125568.0  -9.963551      93.808116  1      48.073492   3.399269\n",
       "2426  349344.0 -10.180798     -15.949644  1     -46.113737   3.260695\n",
       "2437  350928.0  -9.968694     -15.230675  1     -43.242258   3.057653\n",
       "46      6624.0  -7.387905     -11.921038  1     -42.355944   3.006822"
      ]
     },
     "execution_count": 26,
     "metadata": {},
     "output_type": "execute_result"
    }
   ],
   "source": [
    "#create a loop\n",
    "df_e = df\n",
    "df_garbage = pd.DataFrame(columns=df_e.columns)\n",
    "outliner = 1\n",
    "while outliner >0:\n",
    "    #compute r_mean and r_stdv\n",
    "    r_mean = df_e['r'].mean()\n",
    "    r_stdv = df_e['r'].std()\n",
    "    #compute d_i\n",
    "    df_e['d'] = np.absolute(df_e['r'].to_numpy()-r_mean)/r_stdv\n",
    "    #collect garbage\n",
    "    df_tempo = df_e[df_e['d']>3]\n",
    "    df_garbage = df_garbage.append(df_tempo)\n",
    "    #remove outliners\n",
    "    df_e = df_e[df_e['d']<=3]\n",
    "    outliner = len(df_tempo)\n",
    "    print(outliner)\n",
    "    #repeat regression\n",
    "    A = df_e[[\"t_minute\",\"1\",\"W_Level_m\"]].to_numpy()\n",
    "    y = df_e['micro_strain'].to_numpy()\n",
    "    A_transpose = np.transpose(A)\n",
    "    A_plus = np.matmul(np.linalg.inv(np.matmul(A_transpose,A)),A_transpose)\n",
    "    w_hat = np.matmul(A_plus,y)\n",
    "    r = y - np.matmul(A,w_hat)\n",
    "    df_e['r']=r\n",
    "df_garbage"
   ]
  },
  {
   "cell_type": "code",
   "execution_count": 27,
   "metadata": {},
   "outputs": [
    {
     "data": {
      "text/plain": [
       "count    3.633000e+03\n",
       "mean     1.547504e-13\n",
       "std      1.407097e+01\n",
       "min     -4.154414e+01\n",
       "25%     -9.789216e+00\n",
       "50%      2.309154e-01\n",
       "75%      9.738142e+00\n",
       "max      3.994213e+01\n",
       "Name: r, dtype: float64"
      ]
     },
     "execution_count": 27,
     "metadata": {},
     "output_type": "execute_result"
    }
   ],
   "source": [
    "df_e['r'].describe()"
   ]
  },
  {
   "cell_type": "code",
   "execution_count": 28,
   "metadata": {},
   "outputs": [
    {
     "data": {
      "text/plain": [
       "<AxesSubplot:xlabel='t_minute', ylabel='r'>"
      ]
     },
     "execution_count": 28,
     "metadata": {},
     "output_type": "execute_result"
    },
    {
     "data": {
      "image/png": "[encoded data removed]",
      "text/plain": [
       "<Figure size 432x288 with 1 Axes>"
      ]
     },
     "metadata": {
      "needs_background": "light"
     },
     "output_type": "display_data"
    }
   ],
   "source": [
    "sns.scatterplot(data=df_e, x=\"t_minute\", y=\"r\")"
   ]
  },
  {
   "cell_type": "code",
   "execution_count": 29,
   "metadata": {},
   "outputs": [
    {
     "data": {
      "text/plain": [
       "array([-7.88332783e-05, -3.94435753e+01, -9.54374236e+00])"
      ]
     },
     "execution_count": 29,
     "metadata": {},
     "output_type": "execute_result"
    }
   ],
   "source": [
    "w_hat"
   ]
  },
  {
   "cell_type": "code",
   "execution_count": 30,
   "metadata": {},
   "outputs": [
    {
     "name": "stdout",
     "output_type": "stream",
     "text": [
      "-39.68007511865518\n",
      "-246.61743067131962\n"
     ]
    }
   ],
   "source": [
    "alph = w_hat[0]\n",
    "beta = w_hat[1]\n",
    "delt = w_hat[2]\n",
    "\n",
    "print(q_t(3000))\n",
    "print(q_t(min_from_year(5)))"
   ]
  },
  {
   "cell_type": "code",
   "execution_count": null,
   "metadata": {},
   "outputs": [],
   "source": []
  }
 ],
 "metadata": {
  "interpreter": {
   "hash": "b3ba2566441a7c06988d0923437866b63cedc61552a5af99d1f4fb67d367b25f"
  },
  "kernelspec": {
   "display_name": "Python 3.8.8 64-bit ('base': conda)",
   "name": "python3"
  },
  "language_info": {
   "codemirror_mode": {
    "name": "ipython",
    "version": 3
   },
   "file_extension": ".py",
   "mimetype": "text/x-python",
   "name": "python",
   "nbconvert_exporter": "python",
   "pygments_lexer": "ipython3",
   "version": "3.8.8"
  },
  "orig_nbformat": 4
 },
 "nbformat": 4,
 "nbformat_minor": 2
}
