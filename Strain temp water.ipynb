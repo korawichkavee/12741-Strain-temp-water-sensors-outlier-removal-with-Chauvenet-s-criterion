{
 "cells": [
  {
   "cell_type": "code",
   "execution_count": 16,
   "metadata": {},
   "outputs": [
    {
     "data": {
      "text/html": [
       "<div>\n",
       "<style scoped>\n",
       "    .dataframe tbody tr th:only-of-type {\n",
       "        vertical-align: middle;\n",
       "    }\n",
       "\n",
       "    .dataframe tbody tr th {\n",
       "        vertical-align: top;\n",
       "    }\n",
       "\n",
       "    .dataframe thead th {\n",
       "        text-align: right;\n",
       "    }\n",
       "</style>\n",
       "<table border=\"1\" class=\"dataframe\">\n",
       "  <thead>\n",
       "    <tr style=\"text-align: right;\">\n",
       "      <th></th>\n",
       "      <th>t_minute</th>\n",
       "      <th>W_Level_m</th>\n",
       "      <th>Temp_c</th>\n",
       "      <th>micro_strain</th>\n",
       "    </tr>\n",
       "  </thead>\n",
       "  <tbody>\n",
       "    <tr>\n",
       "      <th>0</th>\n",
       "      <td>0.0</td>\n",
       "      <td>-7.317645</td>\n",
       "      <td>0.372449</td>\n",
       "      <td>16.774547</td>\n",
       "    </tr>\n",
       "    <tr>\n",
       "      <th>1</th>\n",
       "      <td>144.0</td>\n",
       "      <td>-7.232018</td>\n",
       "      <td>-0.754370</td>\n",
       "      <td>19.498479</td>\n",
       "    </tr>\n",
       "    <tr>\n",
       "      <th>2</th>\n",
       "      <td>288.0</td>\n",
       "      <td>-6.477226</td>\n",
       "      <td>1.109975</td>\n",
       "      <td>49.871754</td>\n",
       "    </tr>\n",
       "    <tr>\n",
       "      <th>3</th>\n",
       "      <td>432.0</td>\n",
       "      <td>-7.146589</td>\n",
       "      <td>1.569678</td>\n",
       "      <td>28.395637</td>\n",
       "    </tr>\n",
       "    <tr>\n",
       "      <th>4</th>\n",
       "      <td>576.0</td>\n",
       "      <td>-7.253274</td>\n",
       "      <td>4.265809</td>\n",
       "      <td>10.035322</td>\n",
       "    </tr>\n",
       "    <tr>\n",
       "      <th>...</th>\n",
       "      <td>...</td>\n",
       "      <td>...</td>\n",
       "      <td>...</td>\n",
       "      <td>...</td>\n",
       "    </tr>\n",
       "    <tr>\n",
       "      <th>3646</th>\n",
       "      <td>525024.0</td>\n",
       "      <td>-7.860808</td>\n",
       "      <td>0.752731</td>\n",
       "      <td>-0.671496</td>\n",
       "    </tr>\n",
       "    <tr>\n",
       "      <th>3647</th>\n",
       "      <td>525168.0</td>\n",
       "      <td>-7.803942</td>\n",
       "      <td>-1.444742</td>\n",
       "      <td>-1.995406</td>\n",
       "    </tr>\n",
       "    <tr>\n",
       "      <th>3648</th>\n",
       "      <td>525312.0</td>\n",
       "      <td>-7.721651</td>\n",
       "      <td>-1.365997</td>\n",
       "      <td>-21.020292</td>\n",
       "    </tr>\n",
       "    <tr>\n",
       "      <th>3649</th>\n",
       "      <td>525456.0</td>\n",
       "      <td>-8.085533</td>\n",
       "      <td>1.090953</td>\n",
       "      <td>-6.944226</td>\n",
       "    </tr>\n",
       "    <tr>\n",
       "      <th>3650</th>\n",
       "      <td>525600.0</td>\n",
       "      <td>-7.660528</td>\n",
       "      <td>4.219024</td>\n",
       "      <td>4.807055</td>\n",
       "    </tr>\n",
       "  </tbody>\n",
       "</table>\n",
       "<p>3651 rows × 4 columns</p>\n",
       "</div>"
      ],
      "text/plain": [
       "      t_minute  W_Level_m    Temp_c  micro_strain\n",
       "0          0.0  -7.317645  0.372449     16.774547\n",
       "1        144.0  -7.232018 -0.754370     19.498479\n",
       "2        288.0  -6.477226  1.109975     49.871754\n",
       "3        432.0  -7.146589  1.569678     28.395637\n",
       "4        576.0  -7.253274  4.265809     10.035322\n",
       "...        ...        ...       ...           ...\n",
       "3646  525024.0  -7.860808  0.752731     -0.671496\n",
       "3647  525168.0  -7.803942 -1.444742     -1.995406\n",
       "3648  525312.0  -7.721651 -1.365997    -21.020292\n",
       "3649  525456.0  -8.085533  1.090953     -6.944226\n",
       "3650  525600.0  -7.660528  4.219024      4.807055\n",
       "\n",
       "[3651 rows x 4 columns]"
      ]
     },
     "execution_count": 16,
     "metadata": {},
     "output_type": "execute_result"
    }
   ],
   "source": [
    "import pandas as pd\n",
    "import numpy as np\n",
    "df = pd.read_csv(\"Water_Temp_Strain.txt\",sep='\\t',header=None)\n",
    "df.rename(columns={0: 'W_Level_m'}, inplace=True)\n",
    "df.rename(columns={1: 'Temp_c'}, inplace=True)\n",
    "df.rename(columns={2: 'micro_strain'}, inplace=True)\n",
    "\n",
    "#add time component to data frame\n",
    "delta_t = 144 #min \n",
    "t_st = 0\n",
    "t_fi = delta_t*(len(df)-1)\n",
    "time_array = np.linspace(t_st, t_fi, len(df), endpoint=True)\n",
    "df.insert (0, \"t_minute\", time_array)\n",
    "df"
   ]
  },
  {
   "cell_type": "code",
   "execution_count": 17,
   "metadata": {},
   "outputs": [
    {
     "name": "stdout",
     "output_type": "stream",
     "text": [
      "This is y\n",
      "[ 16.77454715  19.49847855  49.87175411 ... -21.02029241  -6.94422611\n",
      "   4.80705458]\n",
      "This is A\n",
      "[[ 0.00000000e+00  1.00000000e+00  3.72449496e-01 -7.31764510e+00]\n",
      " [ 1.44000000e+02  1.00000000e+00 -7.54370183e-01 -7.23201755e+00]\n",
      " [ 2.88000000e+02  1.00000000e+00  1.10997522e+00 -6.47722629e+00]\n",
      " ...\n",
      " [ 5.25312000e+05  1.00000000e+00 -1.36599656e+00 -7.72165131e+00]\n",
      " [ 5.25456000e+05  1.00000000e+00  1.09095295e+00 -8.08553348e+00]\n",
      " [ 5.25600000e+05  1.00000000e+00  4.21902384e+00 -7.66052752e+00]]\n"
     ]
    }
   ],
   "source": [
    "#form a matrix y\n",
    "y = df['micro_strain'].to_numpy()\n",
    "#y = np.transpose(y)\n",
    "#form a matrix A\n",
    "df[\"1\"]=1\n",
    "A = df[[\"t_minute\",\"1\",\"Temp_c\",\"W_Level_m\"]].to_numpy()\n",
    "#A = np.transpose(A)\n",
    "print(\"This is y\")\n",
    "print(y)\n",
    "print(\"This is A\")\n",
    "print(A)\n"
   ]
  },
  {
   "cell_type": "code",
   "execution_count": 18,
   "metadata": {},
   "outputs": [
    {
     "name": "stdout",
     "output_type": "stream",
     "text": [
      "This is A_transpose\n",
      "[[ 0.00000000e+00  1.44000000e+02  2.88000000e+02 ...  5.25312000e+05\n",
      "   5.25456000e+05  5.25600000e+05]\n",
      " [ 1.00000000e+00  1.00000000e+00  1.00000000e+00 ...  1.00000000e+00\n",
      "   1.00000000e+00  1.00000000e+00]\n",
      " [ 3.72449496e-01 -7.54370183e-01  1.10997522e+00 ... -1.36599656e+00\n",
      "   1.09095295e+00  4.21902384e+00]\n",
      " [-7.31764510e+00 -7.23201755e+00 -6.47722629e+00 ... -7.72165131e+00\n",
      "  -8.08553348e+00 -7.66052752e+00]]\n",
      "This is w_hat\n",
      "[-4.29842638e-04 -4.39502381e+02  1.44327434e+00 -5.31572336e+01]\n"
     ]
    }
   ],
   "source": [
    "#form a A_transpose\n",
    "A_transpose = np.transpose(A)\n",
    "print(\"This is A_transpose\")\n",
    "print(A_transpose)\n",
    "#form a A_plus\n",
    "A_plus = np.matmul(np.linalg.inv(np.matmul(A_transpose,A)),A_transpose)\n",
    "w_hat = np.matmul(A_plus,y)\n",
    "print(\"This is w_hat\")\n",
    "print(w_hat)\n"
   ]
  },
  {
   "cell_type": "code",
   "execution_count": 19,
   "metadata": {},
   "outputs": [],
   "source": [
    "alph = w_hat[0]\n",
    "beta = w_hat[1]\n",
    "gamm = w_hat[2]\n",
    "delt = w_hat[3]"
   ]
  },
  {
   "cell_type": "code",
   "execution_count": 20,
   "metadata": {},
   "outputs": [
    {
     "data": {
      "text/plain": [
       "-440.79190912183117"
      ]
     },
     "execution_count": 20,
     "metadata": {},
     "output_type": "execute_result"
    }
   ],
   "source": [
    "def q_t(time):\n",
    "    q = alph*time+beta\n",
    "    return q\n",
    "q_t(3000)"
   ]
  },
  {
   "cell_type": "code",
   "execution_count": 21,
   "metadata": {},
   "outputs": [
    {
     "data": {
      "text/plain": [
       "-1569.1288341221095"
      ]
     },
     "execution_count": 21,
     "metadata": {},
     "output_type": "execute_result"
    }
   ],
   "source": [
    "def min_from_year(y):\n",
    "    minute = y*365*24*60\n",
    "    return minute\n",
    "q_t(min_from_year(5))"
   ]
  },
  {
   "cell_type": "code",
   "execution_count": 22,
   "metadata": {},
   "outputs": [
    {
     "name": "stdout",
     "output_type": "stream",
     "text": [
      "[ 66.75361104  75.71747367 143.58450021 ... 235.79346946 227.04241163\n",
      " 256.93306619]\n"
     ]
    }
   ],
   "source": [
    "#residual\n",
    "r = y - np.matmul(A,w_hat)\n",
    "df['r']=r\n",
    "print(r)"
   ]
  },
  {
   "cell_type": "code",
   "execution_count": 30,
   "metadata": {},
   "outputs": [
    {
     "data": {
      "image/png": "[encoded data removed]",
      "text/plain": [
       "<Figure size 2100x900 with 1 Axes>"
      ]
     },
     "metadata": {},
     "output_type": "display_data"
    }
   ],
   "source": [
    "import seaborn as sns\n",
    "import matplotlib.pyplot as plt\n",
    "import matplotlib.ticker as tick\n",
    "from matplotlib.ticker import (MultipleLocator,FormatStrFormatter,AutoMinorLocator)\n",
    "\n",
    "sns.set()\n",
    "\n",
    "fig, ax = plt.subplots(figsize=[7,3],dpi=300)\n",
    "ax.set_xlim([df['r'].min(),df['r'].max()])\n",
    "\n",
    "_ = plt.hist(df['r'], bins =100)\n",
    "_ = plt.xlabel('Residual')\n",
    "_ = plt.ylabel('Freq')\n",
    "\n",
    "ze,max_y = plt.ylim()\n",
    "\n",
    "plt.axvline(df['r'].mean(), color='k', linestyle='dashed', linewidth=1)\n",
    "plt.text(df['r'].mean(),max_y*0.9, 'Mean: {0:,.2f}'.format(df['r'].mean()))\n",
    "\n",
    "plt.axvline(df['r'].std(), color='k', linestyle='dashed', linewidth=1)\n",
    "plt.text(df['r'].std(),max_y*0.8, 'STD: {0:,.2f}'.format(df['r'].std()))\n",
    "\n",
    "#plt.axvline(df['r'].quantile(0.95), color='k', linestyle='dashed', linewidth=1)\n",
    "#plt.text(df['r'].quantile(0.95),max_y*0.8, 'The 95th: ${0:,.2f}'.format(df['r'].quantile(0.95)))\n",
    "#\n",
    "#plt.axvline(df['r'].quantile(0.05), color='k', linestyle='dashed', linewidth=1)\n",
    "#plt.text(df['r'].quantile(0.05),max_y*0.8, 'The 5th: ${0:,.2f}'.format(df['r'].quantile(0.05)))\n",
    "\n",
    "plt.savefig('Residual_plot.png')\n",
    "plt.show()"
   ]
  },
  {
   "cell_type": "code",
   "execution_count": 33,
   "metadata": {},
   "outputs": [
    {
     "data": {
      "text/plain": [
       "count    3.651000e+03\n",
       "mean     3.606467e-13\n",
       "std      3.293953e+03\n",
       "min     -1.984707e+05\n",
       "25%     -1.037732e+01\n",
       "50%      3.347926e+01\n",
       "75%      1.171414e+02\n",
       "max      2.863694e+02\n",
       "Name: r, dtype: float64"
      ]
     },
     "execution_count": 33,
     "metadata": {},
     "output_type": "execute_result"
    }
   ],
   "source": [
    "df['r'].describe()"
   ]
  },
  {
   "cell_type": "code",
   "execution_count": 42,
   "metadata": {},
   "outputs": [
    {
     "data": {
      "text/html": [
       "<style  type=\"text/css\" >\n",
       "</style><table id=\"T_742b2_\" ><thead>    <tr>        <th class=\"blank level0\" ></th>        <th class=\"col_heading level0 col0\" >t_minute</th>        <th class=\"col_heading level0 col1\" >W_Level_m</th>        <th class=\"col_heading level0 col2\" >Temp_c</th>        <th class=\"col_heading level0 col3\" >micro_strain</th>        <th class=\"col_heading level0 col4\" >1</th>        <th class=\"col_heading level0 col5\" >r</th>    </tr></thead><tbody>\n",
       "                <tr>\n",
       "                        <th id=\"T_742b2_level0_row0\" class=\"row_heading level0 row0\" >0</th>\n",
       "                        <td id=\"T_742b2_row0_col0\" class=\"data row0 col0\" >0.00</td>\n",
       "                        <td id=\"T_742b2_row0_col1\" class=\"data row0 col1\" >-7.32</td>\n",
       "                        <td id=\"T_742b2_row0_col2\" class=\"data row0 col2\" >0.37</td>\n",
       "                        <td id=\"T_742b2_row0_col3\" class=\"data row0 col3\" >16.77</td>\n",
       "                        <td id=\"T_742b2_row0_col4\" class=\"data row0 col4\" >1.00</td>\n",
       "                        <td id=\"T_742b2_row0_col5\" class=\"data row0 col5\" >66.75</td>\n",
       "            </tr>\n",
       "            <tr>\n",
       "                        <th id=\"T_742b2_level0_row1\" class=\"row_heading level0 row1\" >1</th>\n",
       "                        <td id=\"T_742b2_row1_col0\" class=\"data row1 col0\" >144.00</td>\n",
       "                        <td id=\"T_742b2_row1_col1\" class=\"data row1 col1\" >-7.23</td>\n",
       "                        <td id=\"T_742b2_row1_col2\" class=\"data row1 col2\" >-0.75</td>\n",
       "                        <td id=\"T_742b2_row1_col3\" class=\"data row1 col3\" >19.50</td>\n",
       "                        <td id=\"T_742b2_row1_col4\" class=\"data row1 col4\" >1.00</td>\n",
       "                        <td id=\"T_742b2_row1_col5\" class=\"data row1 col5\" >75.72</td>\n",
       "            </tr>\n",
       "            <tr>\n",
       "                        <th id=\"T_742b2_level0_row2\" class=\"row_heading level0 row2\" >2</th>\n",
       "                        <td id=\"T_742b2_row2_col0\" class=\"data row2 col0\" >288.00</td>\n",
       "                        <td id=\"T_742b2_row2_col1\" class=\"data row2 col1\" >-6.48</td>\n",
       "                        <td id=\"T_742b2_row2_col2\" class=\"data row2 col2\" >1.11</td>\n",
       "                        <td id=\"T_742b2_row2_col3\" class=\"data row2 col3\" >49.87</td>\n",
       "                        <td id=\"T_742b2_row2_col4\" class=\"data row2 col4\" >1.00</td>\n",
       "                        <td id=\"T_742b2_row2_col5\" class=\"data row2 col5\" >143.58</td>\n",
       "            </tr>\n",
       "            <tr>\n",
       "                        <th id=\"T_742b2_level0_row3\" class=\"row_heading level0 row3\" >3</th>\n",
       "                        <td id=\"T_742b2_row3_col0\" class=\"data row3 col0\" >432.00</td>\n",
       "                        <td id=\"T_742b2_row3_col1\" class=\"data row3 col1\" >-7.15</td>\n",
       "                        <td id=\"T_742b2_row3_col2\" class=\"data row3 col2\" >1.57</td>\n",
       "                        <td id=\"T_742b2_row3_col3\" class=\"data row3 col3\" >28.40</td>\n",
       "                        <td id=\"T_742b2_row3_col4\" class=\"data row3 col4\" >1.00</td>\n",
       "                        <td id=\"T_742b2_row3_col5\" class=\"data row3 col5\" >85.93</td>\n",
       "            </tr>\n",
       "            <tr>\n",
       "                        <th id=\"T_742b2_level0_row4\" class=\"row_heading level0 row4\" >4</th>\n",
       "                        <td id=\"T_742b2_row4_col0\" class=\"data row4 col0\" >576.00</td>\n",
       "                        <td id=\"T_742b2_row4_col1\" class=\"data row4 col1\" >-7.25</td>\n",
       "                        <td id=\"T_742b2_row4_col2\" class=\"data row4 col2\" >4.27</td>\n",
       "                        <td id=\"T_742b2_row4_col3\" class=\"data row4 col3\" >10.04</td>\n",
       "                        <td id=\"T_742b2_row4_col4\" class=\"data row4 col4\" >1.00</td>\n",
       "                        <td id=\"T_742b2_row4_col5\" class=\"data row4 col5\" >58.06</td>\n",
       "            </tr>\n",
       "            <tr>\n",
       "                        <th id=\"T_742b2_level0_row5\" class=\"row_heading level0 row5\" >5</th>\n",
       "                        <td id=\"T_742b2_row5_col0\" class=\"data row5 col0\" >720.00</td>\n",
       "                        <td id=\"T_742b2_row5_col1\" class=\"data row5 col1\" >-7.44</td>\n",
       "                        <td id=\"T_742b2_row5_col2\" class=\"data row5 col2\" >-1.34</td>\n",
       "                        <td id=\"T_742b2_row5_col3\" class=\"data row5 col3\" >5.51</td>\n",
       "                        <td id=\"T_742b2_row5_col4\" class=\"data row5 col4\" >1.00</td>\n",
       "                        <td id=\"T_742b2_row5_col5\" class=\"data row5 col5\" >51.91</td>\n",
       "            </tr>\n",
       "            <tr>\n",
       "                        <th id=\"T_742b2_level0_row6\" class=\"row_heading level0 row6\" >6</th>\n",
       "                        <td id=\"T_742b2_row6_col0\" class=\"data row6 col0\" >864.00</td>\n",
       "                        <td id=\"T_742b2_row6_col1\" class=\"data row6 col1\" >-6.63</td>\n",
       "                        <td id=\"T_742b2_row6_col2\" class=\"data row6 col2\" >-3.53</td>\n",
       "                        <td id=\"T_742b2_row6_col3\" class=\"data row6 col3\" >-8.19</td>\n",
       "                        <td id=\"T_742b2_row6_col4\" class=\"data row6 col4\" >1.00</td>\n",
       "                        <td id=\"T_742b2_row6_col5\" class=\"data row6 col5\" >84.12</td>\n",
       "            </tr>\n",
       "            <tr>\n",
       "                        <th id=\"T_742b2_level0_row7\" class=\"row_heading level0 row7\" >7</th>\n",
       "                        <td id=\"T_742b2_row7_col0\" class=\"data row7 col0\" >1,008.00</td>\n",
       "                        <td id=\"T_742b2_row7_col1\" class=\"data row7 col1\" >-7.17</td>\n",
       "                        <td id=\"T_742b2_row7_col2\" class=\"data row7 col2\" >-1.89</td>\n",
       "                        <td id=\"T_742b2_row7_col3\" class=\"data row7 col3\" >18.84</td>\n",
       "                        <td id=\"T_742b2_row7_col4\" class=\"data row7 col4\" >1.00</td>\n",
       "                        <td id=\"T_742b2_row7_col5\" class=\"data row7 col5\" >80.28</td>\n",
       "            </tr>\n",
       "            <tr>\n",
       "                        <th id=\"T_742b2_level0_row8\" class=\"row_heading level0 row8\" >8</th>\n",
       "                        <td id=\"T_742b2_row8_col0\" class=\"data row8 col0\" >1,152.00</td>\n",
       "                        <td id=\"T_742b2_row8_col1\" class=\"data row8 col1\" >-6.87</td>\n",
       "                        <td id=\"T_742b2_row8_col2\" class=\"data row8 col2\" >-1.36</td>\n",
       "                        <td id=\"T_742b2_row8_col3\" class=\"data row8 col3\" >4.11</td>\n",
       "                        <td id=\"T_742b2_row8_col4\" class=\"data row8 col4\" >1.00</td>\n",
       "                        <td id=\"T_742b2_row8_col5\" class=\"data row8 col5\" >80.91</td>\n",
       "            </tr>\n",
       "            <tr>\n",
       "                        <th id=\"T_742b2_level0_row9\" class=\"row_heading level0 row9\" >9</th>\n",
       "                        <td id=\"T_742b2_row9_col0\" class=\"data row9 col0\" >1,296.00</td>\n",
       "                        <td id=\"T_742b2_row9_col1\" class=\"data row9 col1\" >-6.76</td>\n",
       "                        <td id=\"T_742b2_row9_col2\" class=\"data row9 col2\" >-1.21</td>\n",
       "                        <td id=\"T_742b2_row9_col3\" class=\"data row9 col3\" >20.30</td>\n",
       "                        <td id=\"T_742b2_row9_col4\" class=\"data row9 col4\" >1.00</td>\n",
       "                        <td id=\"T_742b2_row9_col5\" class=\"data row9 col5\" >102.52</td>\n",
       "            </tr>\n",
       "    </tbody></table>"
      ],
      "text/plain": [
       "<pandas.io.formats.style.Styler at 0x1bd8bef86a0>"
      ]
     },
     "execution_count": 42,
     "metadata": {},
     "output_type": "execute_result"
    }
   ],
   "source": [
    "df.head(10).style.format('{0:,.2f}')"
   ]
  },
  {
   "cell_type": "code",
   "execution_count": null,
   "metadata": {},
   "outputs": [],
   "source": []
  }
 ],
 "metadata": {
  "interpreter": {
   "hash": "b3ba2566441a7c06988d0923437866b63cedc61552a5af99d1f4fb67d367b25f"
  },
  "kernelspec": {
   "display_name": "Python 3.8.8 64-bit ('base': conda)",
   "name": "python3"
  },
  "language_info": {
   "codemirror_mode": {
    "name": "ipython",
    "version": 3
   },
   "file_extension": ".py",
   "mimetype": "text/x-python",
   "name": "python",
   "nbconvert_exporter": "python",
   "pygments_lexer": "ipython3",
   "version": "3.8.8"
  },
  "orig_nbformat": 4
 },
 "nbformat": 4,
 "nbformat_minor": 2
}
