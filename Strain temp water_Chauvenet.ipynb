{
 "cells": [
  {
   "cell_type": "code",
   "execution_count": 32,
   "metadata": {},
   "outputs": [
    {
     "data": {
      "text/html": [
       "<div>\n",
       "<style scoped>\n",
       "    .dataframe tbody tr th:only-of-type {\n",
       "        vertical-align: middle;\n",
       "    }\n",
       "\n",
       "    .dataframe tbody tr th {\n",
       "        vertical-align: top;\n",
       "    }\n",
       "\n",
       "    .dataframe thead th {\n",
       "        text-align: right;\n",
       "    }\n",
       "</style>\n",
       "<table border=\"1\" class=\"dataframe\">\n",
       "  <thead>\n",
       "    <tr style=\"text-align: right;\">\n",
       "      <th></th>\n",
       "      <th>t_minute</th>\n",
       "      <th>W_Level_m</th>\n",
       "      <th>Temp_c</th>\n",
       "      <th>micro_strain</th>\n",
       "    </tr>\n",
       "  </thead>\n",
       "  <tbody>\n",
       "    <tr>\n",
       "      <th>0</th>\n",
       "      <td>0.0</td>\n",
       "      <td>-7.317645</td>\n",
       "      <td>0.372449</td>\n",
       "      <td>16.774547</td>\n",
       "    </tr>\n",
       "    <tr>\n",
       "      <th>1</th>\n",
       "      <td>144.0</td>\n",
       "      <td>-7.232018</td>\n",
       "      <td>-0.754370</td>\n",
       "      <td>19.498479</td>\n",
       "    </tr>\n",
       "    <tr>\n",
       "      <th>2</th>\n",
       "      <td>288.0</td>\n",
       "      <td>-6.477226</td>\n",
       "      <td>1.109975</td>\n",
       "      <td>49.871754</td>\n",
       "    </tr>\n",
       "    <tr>\n",
       "      <th>3</th>\n",
       "      <td>432.0</td>\n",
       "      <td>-7.146589</td>\n",
       "      <td>1.569678</td>\n",
       "      <td>28.395637</td>\n",
       "    </tr>\n",
       "    <tr>\n",
       "      <th>4</th>\n",
       "      <td>576.0</td>\n",
       "      <td>-7.253274</td>\n",
       "      <td>4.265809</td>\n",
       "      <td>10.035322</td>\n",
       "    </tr>\n",
       "    <tr>\n",
       "      <th>...</th>\n",
       "      <td>...</td>\n",
       "      <td>...</td>\n",
       "      <td>...</td>\n",
       "      <td>...</td>\n",
       "    </tr>\n",
       "    <tr>\n",
       "      <th>3646</th>\n",
       "      <td>525024.0</td>\n",
       "      <td>-7.860808</td>\n",
       "      <td>0.752731</td>\n",
       "      <td>-0.671496</td>\n",
       "    </tr>\n",
       "    <tr>\n",
       "      <th>3647</th>\n",
       "      <td>525168.0</td>\n",
       "      <td>-7.803942</td>\n",
       "      <td>-1.444742</td>\n",
       "      <td>-1.995406</td>\n",
       "    </tr>\n",
       "    <tr>\n",
       "      <th>3648</th>\n",
       "      <td>525312.0</td>\n",
       "      <td>-7.721651</td>\n",
       "      <td>-1.365997</td>\n",
       "      <td>-21.020292</td>\n",
       "    </tr>\n",
       "    <tr>\n",
       "      <th>3649</th>\n",
       "      <td>525456.0</td>\n",
       "      <td>-8.085533</td>\n",
       "      <td>1.090953</td>\n",
       "      <td>-6.944226</td>\n",
       "    </tr>\n",
       "    <tr>\n",
       "      <th>3650</th>\n",
       "      <td>525600.0</td>\n",
       "      <td>-7.660528</td>\n",
       "      <td>4.219024</td>\n",
       "      <td>4.807055</td>\n",
       "    </tr>\n",
       "  </tbody>\n",
       "</table>\n",
       "<p>3651 rows × 4 columns</p>\n",
       "</div>"
      ],
      "text/plain": [
       "      t_minute  W_Level_m    Temp_c  micro_strain\n",
       "0          0.0  -7.317645  0.372449     16.774547\n",
       "1        144.0  -7.232018 -0.754370     19.498479\n",
       "2        288.0  -6.477226  1.109975     49.871754\n",
       "3        432.0  -7.146589  1.569678     28.395637\n",
       "4        576.0  -7.253274  4.265809     10.035322\n",
       "...        ...        ...       ...           ...\n",
       "3646  525024.0  -7.860808  0.752731     -0.671496\n",
       "3647  525168.0  -7.803942 -1.444742     -1.995406\n",
       "3648  525312.0  -7.721651 -1.365997    -21.020292\n",
       "3649  525456.0  -8.085533  1.090953     -6.944226\n",
       "3650  525600.0  -7.660528  4.219024      4.807055\n",
       "\n",
       "[3651 rows x 4 columns]"
      ]
     },
     "execution_count": 32,
     "metadata": {},
     "output_type": "execute_result"
    }
   ],
   "source": [
    "import pandas as pd\n",
    "import numpy as np\n",
    "df = pd.read_csv(\"Water_Temp_Strain.txt\",sep='\\t',header=None)\n",
    "df.rename(columns={0: 'W_Level_m'}, inplace=True)\n",
    "df.rename(columns={1: 'Temp_c'}, inplace=True)\n",
    "df.rename(columns={2: 'micro_strain'}, inplace=True)\n",
    "\n",
    "#add time component to data frame\n",
    "delta_t = 144 #min \n",
    "t_st = 0\n",
    "t_fi = delta_t*(len(df)-1)\n",
    "time_array = np.linspace(t_st, t_fi, len(df), endpoint=True)\n",
    "df.insert (0, \"t_minute\", time_array)\n",
    "df"
   ]
  },
  {
   "cell_type": "code",
   "execution_count": 33,
   "metadata": {},
   "outputs": [],
   "source": [
    "#strain W_Level_m\n",
    "#df = df[df['W_Level_m']<=df['W_Level_m'].quantile(0.975)]\n",
    "#df = df[df['W_Level_m']>=df['W_Level_m'].quantile(0.025)]\n",
    "#strain Temp_c\n",
    "#df = df[df['Temp_c']<=df['Temp_c'].quantile(0.975)]\n",
    "#df = df[df['Temp_c']>=df['Temp_c'].quantile(0.025)]\n",
    "#strain micro_strain\n",
    "#df = df[df['micro_strain']<=df['micro_strain'].quantile(0.975)]\n",
    "#df = df[df['micro_strain']>=df['micro_strain'].quantile(0.025)]\n",
    "#len(df)"
   ]
  },
  {
   "cell_type": "code",
   "execution_count": 34,
   "metadata": {},
   "outputs": [
    {
     "name": "stdout",
     "output_type": "stream",
     "text": [
      "This is y\n",
      "[ 16.77454715  19.49847855  49.87175411 ... -21.02029241  -6.94422611\n",
      "   4.80705458]\n",
      "This is A\n",
      "[[ 0.00000000e+00  1.00000000e+00  3.72449496e-01 -7.31764510e+00]\n",
      " [ 1.44000000e+02  1.00000000e+00 -7.54370183e-01 -7.23201755e+00]\n",
      " [ 2.88000000e+02  1.00000000e+00  1.10997522e+00 -6.47722629e+00]\n",
      " ...\n",
      " [ 5.25312000e+05  1.00000000e+00 -1.36599656e+00 -7.72165131e+00]\n",
      " [ 5.25456000e+05  1.00000000e+00  1.09095295e+00 -8.08553348e+00]\n",
      " [ 5.25600000e+05  1.00000000e+00  4.21902384e+00 -7.66052752e+00]]\n"
     ]
    }
   ],
   "source": [
    "#form a matrix y\n",
    "y = df['micro_strain'].to_numpy()\n",
    "#y = np.transpose(y)\n",
    "#form a matrix A\n",
    "df[\"1\"]=1\n",
    "A = df[[\"t_minute\",\"1\",\"Temp_c\",\"W_Level_m\"]].to_numpy()\n",
    "#A = np.transpose(A)\n",
    "print(\"This is y\")\n",
    "print(y)\n",
    "print(\"This is A\")\n",
    "print(A)\n"
   ]
  },
  {
   "cell_type": "code",
   "execution_count": 35,
   "metadata": {},
   "outputs": [
    {
     "name": "stdout",
     "output_type": "stream",
     "text": [
      "This is A_transpose\n",
      "[[ 0.00000000e+00  1.44000000e+02  2.88000000e+02 ...  5.25312000e+05\n",
      "   5.25456000e+05  5.25600000e+05]\n",
      " [ 1.00000000e+00  1.00000000e+00  1.00000000e+00 ...  1.00000000e+00\n",
      "   1.00000000e+00  1.00000000e+00]\n",
      " [ 3.72449496e-01 -7.54370183e-01  1.10997522e+00 ... -1.36599656e+00\n",
      "   1.09095295e+00  4.21902384e+00]\n",
      " [-7.31764510e+00 -7.23201755e+00 -6.47722629e+00 ... -7.72165131e+00\n",
      "  -8.08553348e+00 -7.66052752e+00]]\n",
      "This is w_hat\n",
      "[-4.29842638e-04 -4.39502381e+02  1.44327434e+00 -5.31572336e+01]\n"
     ]
    }
   ],
   "source": [
    "#form a A_transpose\n",
    "A_transpose = np.transpose(A)\n",
    "print(\"This is A_transpose\")\n",
    "print(A_transpose)\n",
    "#form a A_plus\n",
    "A_plus = np.matmul(np.linalg.inv(np.matmul(A_transpose,A)),A_transpose)\n",
    "w_hat = np.matmul(A_plus,y)\n",
    "print(\"This is w_hat\")\n",
    "print(w_hat)\n"
   ]
  },
  {
   "cell_type": "code",
   "execution_count": 36,
   "metadata": {},
   "outputs": [],
   "source": [
    "alph = w_hat[0]\n",
    "beta = w_hat[1]\n",
    "gamm = w_hat[2]\n",
    "delt = w_hat[3]"
   ]
  },
  {
   "cell_type": "code",
   "execution_count": 37,
   "metadata": {},
   "outputs": [
    {
     "data": {
      "text/plain": [
       "-440.79190912183117"
      ]
     },
     "execution_count": 37,
     "metadata": {},
     "output_type": "execute_result"
    }
   ],
   "source": [
    "def q_t(time):\n",
    "    q = alph*time+beta\n",
    "    return q\n",
    "q_t(3000)"
   ]
  },
  {
   "cell_type": "code",
   "execution_count": 38,
   "metadata": {},
   "outputs": [
    {
     "data": {
      "text/plain": [
       "-1569.1288341221095"
      ]
     },
     "execution_count": 38,
     "metadata": {},
     "output_type": "execute_result"
    }
   ],
   "source": [
    "def min_from_year(y):\n",
    "    minute = y*365*24*60\n",
    "    return minute\n",
    "q_t(min_from_year(5))"
   ]
  },
  {
   "cell_type": "code",
   "execution_count": 39,
   "metadata": {},
   "outputs": [
    {
     "name": "stdout",
     "output_type": "stream",
     "text": [
      "[ 66.75361104  75.71747367 143.58450021 ... 235.79346946 227.04241163\n",
      " 256.93306619]\n"
     ]
    }
   ],
   "source": [
    "#residual\n",
    "r = y - np.matmul(A,w_hat)\n",
    "df['r']=r\n",
    "print(r)"
   ]
  },
  {
   "cell_type": "code",
   "execution_count": 40,
   "metadata": {},
   "outputs": [
    {
     "data": {
      "text/html": [
       "<style  type=\"text/css\" >\n",
       "</style><table id=\"T_7866e_\" ><thead>    <tr>        <th class=\"blank level0\" ></th>        <th class=\"col_heading level0 col0\" >t_minute</th>        <th class=\"col_heading level0 col1\" >W_Level_m</th>        <th class=\"col_heading level0 col2\" >Temp_c</th>        <th class=\"col_heading level0 col3\" >micro_strain</th>        <th class=\"col_heading level0 col4\" >1</th>        <th class=\"col_heading level0 col5\" >r</th>    </tr></thead><tbody>\n",
       "                <tr>\n",
       "                        <th id=\"T_7866e_level0_row0\" class=\"row_heading level0 row0\" >0</th>\n",
       "                        <td id=\"T_7866e_row0_col0\" class=\"data row0 col0\" >0.00</td>\n",
       "                        <td id=\"T_7866e_row0_col1\" class=\"data row0 col1\" >-7.32</td>\n",
       "                        <td id=\"T_7866e_row0_col2\" class=\"data row0 col2\" >0.37</td>\n",
       "                        <td id=\"T_7866e_row0_col3\" class=\"data row0 col3\" >16.77</td>\n",
       "                        <td id=\"T_7866e_row0_col4\" class=\"data row0 col4\" >1.00</td>\n",
       "                        <td id=\"T_7866e_row0_col5\" class=\"data row0 col5\" >66.75</td>\n",
       "            </tr>\n",
       "            <tr>\n",
       "                        <th id=\"T_7866e_level0_row1\" class=\"row_heading level0 row1\" >1</th>\n",
       "                        <td id=\"T_7866e_row1_col0\" class=\"data row1 col0\" >144.00</td>\n",
       "                        <td id=\"T_7866e_row1_col1\" class=\"data row1 col1\" >-7.23</td>\n",
       "                        <td id=\"T_7866e_row1_col2\" class=\"data row1 col2\" >-0.75</td>\n",
       "                        <td id=\"T_7866e_row1_col3\" class=\"data row1 col3\" >19.50</td>\n",
       "                        <td id=\"T_7866e_row1_col4\" class=\"data row1 col4\" >1.00</td>\n",
       "                        <td id=\"T_7866e_row1_col5\" class=\"data row1 col5\" >75.72</td>\n",
       "            </tr>\n",
       "            <tr>\n",
       "                        <th id=\"T_7866e_level0_row2\" class=\"row_heading level0 row2\" >2</th>\n",
       "                        <td id=\"T_7866e_row2_col0\" class=\"data row2 col0\" >288.00</td>\n",
       "                        <td id=\"T_7866e_row2_col1\" class=\"data row2 col1\" >-6.48</td>\n",
       "                        <td id=\"T_7866e_row2_col2\" class=\"data row2 col2\" >1.11</td>\n",
       "                        <td id=\"T_7866e_row2_col3\" class=\"data row2 col3\" >49.87</td>\n",
       "                        <td id=\"T_7866e_row2_col4\" class=\"data row2 col4\" >1.00</td>\n",
       "                        <td id=\"T_7866e_row2_col5\" class=\"data row2 col5\" >143.58</td>\n",
       "            </tr>\n",
       "            <tr>\n",
       "                        <th id=\"T_7866e_level0_row3\" class=\"row_heading level0 row3\" >3</th>\n",
       "                        <td id=\"T_7866e_row3_col0\" class=\"data row3 col0\" >432.00</td>\n",
       "                        <td id=\"T_7866e_row3_col1\" class=\"data row3 col1\" >-7.15</td>\n",
       "                        <td id=\"T_7866e_row3_col2\" class=\"data row3 col2\" >1.57</td>\n",
       "                        <td id=\"T_7866e_row3_col3\" class=\"data row3 col3\" >28.40</td>\n",
       "                        <td id=\"T_7866e_row3_col4\" class=\"data row3 col4\" >1.00</td>\n",
       "                        <td id=\"T_7866e_row3_col5\" class=\"data row3 col5\" >85.93</td>\n",
       "            </tr>\n",
       "            <tr>\n",
       "                        <th id=\"T_7866e_level0_row4\" class=\"row_heading level0 row4\" >4</th>\n",
       "                        <td id=\"T_7866e_row4_col0\" class=\"data row4 col0\" >576.00</td>\n",
       "                        <td id=\"T_7866e_row4_col1\" class=\"data row4 col1\" >-7.25</td>\n",
       "                        <td id=\"T_7866e_row4_col2\" class=\"data row4 col2\" >4.27</td>\n",
       "                        <td id=\"T_7866e_row4_col3\" class=\"data row4 col3\" >10.04</td>\n",
       "                        <td id=\"T_7866e_row4_col4\" class=\"data row4 col4\" >1.00</td>\n",
       "                        <td id=\"T_7866e_row4_col5\" class=\"data row4 col5\" >58.06</td>\n",
       "            </tr>\n",
       "            <tr>\n",
       "                        <th id=\"T_7866e_level0_row5\" class=\"row_heading level0 row5\" >5</th>\n",
       "                        <td id=\"T_7866e_row5_col0\" class=\"data row5 col0\" >720.00</td>\n",
       "                        <td id=\"T_7866e_row5_col1\" class=\"data row5 col1\" >-7.44</td>\n",
       "                        <td id=\"T_7866e_row5_col2\" class=\"data row5 col2\" >-1.34</td>\n",
       "                        <td id=\"T_7866e_row5_col3\" class=\"data row5 col3\" >5.51</td>\n",
       "                        <td id=\"T_7866e_row5_col4\" class=\"data row5 col4\" >1.00</td>\n",
       "                        <td id=\"T_7866e_row5_col5\" class=\"data row5 col5\" >51.91</td>\n",
       "            </tr>\n",
       "            <tr>\n",
       "                        <th id=\"T_7866e_level0_row6\" class=\"row_heading level0 row6\" >6</th>\n",
       "                        <td id=\"T_7866e_row6_col0\" class=\"data row6 col0\" >864.00</td>\n",
       "                        <td id=\"T_7866e_row6_col1\" class=\"data row6 col1\" >-6.63</td>\n",
       "                        <td id=\"T_7866e_row6_col2\" class=\"data row6 col2\" >-3.53</td>\n",
       "                        <td id=\"T_7866e_row6_col3\" class=\"data row6 col3\" >-8.19</td>\n",
       "                        <td id=\"T_7866e_row6_col4\" class=\"data row6 col4\" >1.00</td>\n",
       "                        <td id=\"T_7866e_row6_col5\" class=\"data row6 col5\" >84.12</td>\n",
       "            </tr>\n",
       "            <tr>\n",
       "                        <th id=\"T_7866e_level0_row7\" class=\"row_heading level0 row7\" >7</th>\n",
       "                        <td id=\"T_7866e_row7_col0\" class=\"data row7 col0\" >1,008.00</td>\n",
       "                        <td id=\"T_7866e_row7_col1\" class=\"data row7 col1\" >-7.17</td>\n",
       "                        <td id=\"T_7866e_row7_col2\" class=\"data row7 col2\" >-1.89</td>\n",
       "                        <td id=\"T_7866e_row7_col3\" class=\"data row7 col3\" >18.84</td>\n",
       "                        <td id=\"T_7866e_row7_col4\" class=\"data row7 col4\" >1.00</td>\n",
       "                        <td id=\"T_7866e_row7_col5\" class=\"data row7 col5\" >80.28</td>\n",
       "            </tr>\n",
       "            <tr>\n",
       "                        <th id=\"T_7866e_level0_row8\" class=\"row_heading level0 row8\" >8</th>\n",
       "                        <td id=\"T_7866e_row8_col0\" class=\"data row8 col0\" >1,152.00</td>\n",
       "                        <td id=\"T_7866e_row8_col1\" class=\"data row8 col1\" >-6.87</td>\n",
       "                        <td id=\"T_7866e_row8_col2\" class=\"data row8 col2\" >-1.36</td>\n",
       "                        <td id=\"T_7866e_row8_col3\" class=\"data row8 col3\" >4.11</td>\n",
       "                        <td id=\"T_7866e_row8_col4\" class=\"data row8 col4\" >1.00</td>\n",
       "                        <td id=\"T_7866e_row8_col5\" class=\"data row8 col5\" >80.91</td>\n",
       "            </tr>\n",
       "            <tr>\n",
       "                        <th id=\"T_7866e_level0_row9\" class=\"row_heading level0 row9\" >9</th>\n",
       "                        <td id=\"T_7866e_row9_col0\" class=\"data row9 col0\" >1,296.00</td>\n",
       "                        <td id=\"T_7866e_row9_col1\" class=\"data row9 col1\" >-6.76</td>\n",
       "                        <td id=\"T_7866e_row9_col2\" class=\"data row9 col2\" >-1.21</td>\n",
       "                        <td id=\"T_7866e_row9_col3\" class=\"data row9 col3\" >20.30</td>\n",
       "                        <td id=\"T_7866e_row9_col4\" class=\"data row9 col4\" >1.00</td>\n",
       "                        <td id=\"T_7866e_row9_col5\" class=\"data row9 col5\" >102.52</td>\n",
       "            </tr>\n",
       "    </tbody></table>"
      ],
      "text/plain": [
       "<pandas.io.formats.style.Styler at 0x17996e0feb0>"
      ]
     },
     "execution_count": 40,
     "metadata": {},
     "output_type": "execute_result"
    }
   ],
   "source": [
    "df.head(10).style.format('{0:,.2f}')"
   ]
  },
  {
   "cell_type": "code",
   "execution_count": 41,
   "metadata": {},
   "outputs": [
    {
     "data": {
      "text/plain": [
       "<AxesSubplot:xlabel='t_minute', ylabel='r'>"
      ]
     },
     "execution_count": 41,
     "metadata": {},
     "output_type": "execute_result"
    },
    {
     "data": {
      "image/png": "[encoded data removed]",
      "text/plain": [
       "<Figure size 432x288 with 1 Axes>"
      ]
     },
     "metadata": {
      "needs_background": "light"
     },
     "output_type": "display_data"
    }
   ],
   "source": [
    "import seaborn as sns\n",
    "sns.scatterplot(data=df, x=\"t_minute\", y=\"r\")"
   ]
  },
  {
   "cell_type": "code",
   "execution_count": 42,
   "metadata": {},
   "outputs": [
    {
     "name": "stdout",
     "output_type": "stream",
     "text": [
      "2\n",
      "11\n",
      "3\n",
      "0\n"
     ]
    },
    {
     "name": "stderr",
     "output_type": "stream",
     "text": [
      "<ipython-input-42-399648d659a6>:25: SettingWithCopyWarning: \n",
      "A value is trying to be set on a copy of a slice from a DataFrame.\n",
      "Try using .loc[row_indexer,col_indexer] = value instead\n",
      "\n",
      "See the caveats in the documentation: https://pandas.pydata.org/pandas-docs/stable/user_guide/indexing.html#returning-a-view-versus-a-copy\n",
      "  df_e['r']=r\n",
      "<ipython-input-42-399648d659a6>:10: SettingWithCopyWarning: \n",
      "A value is trying to be set on a copy of a slice from a DataFrame.\n",
      "Try using .loc[row_indexer,col_indexer] = value instead\n",
      "\n",
      "See the caveats in the documentation: https://pandas.pydata.org/pandas-docs/stable/user_guide/indexing.html#returning-a-view-versus-a-copy\n",
      "  df_e['d'] = np.absolute(df_e['r'].to_numpy()-r_mean)/r_stdv\n"
     ]
    },
    {
     "data": {
      "text/html": [
       "<div>\n",
       "<style scoped>\n",
       "    .dataframe tbody tr th:only-of-type {\n",
       "        vertical-align: middle;\n",
       "    }\n",
       "\n",
       "    .dataframe tbody tr th {\n",
       "        vertical-align: top;\n",
       "    }\n",
       "\n",
       "    .dataframe thead th {\n",
       "        text-align: right;\n",
       "    }\n",
       "</style>\n",
       "<table border=\"1\" class=\"dataframe\">\n",
       "  <thead>\n",
       "    <tr style=\"text-align: right;\">\n",
       "      <th></th>\n",
       "      <th>t_minute</th>\n",
       "      <th>W_Level_m</th>\n",
       "      <th>Temp_c</th>\n",
       "      <th>micro_strain</th>\n",
       "      <th>1</th>\n",
       "      <th>r</th>\n",
       "      <th>d</th>\n",
       "    </tr>\n",
       "  </thead>\n",
       "  <tbody>\n",
       "    <tr>\n",
       "      <th>2499</th>\n",
       "      <td>359856.0</td>\n",
       "      <td>-9.546883</td>\n",
       "      <td>4.179788</td>\n",
       "      <td>-13249.534019</td>\n",
       "      <td>1</td>\n",
       "      <td>-13168.868657</td>\n",
       "      <td>3.997892</td>\n",
       "    </tr>\n",
       "    <tr>\n",
       "      <th>3049</th>\n",
       "      <td>439056.0</td>\n",
       "      <td>-8.371391</td>\n",
       "      <td>2.103995</td>\n",
       "      <td>-198650.876347</td>\n",
       "      <td>1</td>\n",
       "      <td>-198470.685617</td>\n",
       "      <td>60.253042</td>\n",
       "    </tr>\n",
       "    <tr>\n",
       "      <th>49</th>\n",
       "      <td>7056.0</td>\n",
       "      <td>-7.063081</td>\n",
       "      <td>0.455863</td>\n",
       "      <td>162.453175</td>\n",
       "      <td>1</td>\n",
       "      <td>142.538420</td>\n",
       "      <td>10.174023</td>\n",
       "    </tr>\n",
       "    <tr>\n",
       "      <th>199</th>\n",
       "      <td>28656.0</td>\n",
       "      <td>-8.437181</td>\n",
       "      <td>4.772817</td>\n",
       "      <td>108.528192</td>\n",
       "      <td>1</td>\n",
       "      <td>81.751969</td>\n",
       "      <td>5.835244</td>\n",
       "    </tr>\n",
       "    <tr>\n",
       "      <th>349</th>\n",
       "      <td>50256.0</td>\n",
       "      <td>-8.590828</td>\n",
       "      <td>9.051048</td>\n",
       "      <td>130.877250</td>\n",
       "      <td>1</td>\n",
       "      <td>98.125352</td>\n",
       "      <td>7.003933</td>\n",
       "    </tr>\n",
       "    <tr>\n",
       "      <th>499</th>\n",
       "      <td>71856.0</td>\n",
       "      <td>-9.240080</td>\n",
       "      <td>13.418814</td>\n",
       "      <td>149.463749</td>\n",
       "      <td>1</td>\n",
       "      <td>110.260252</td>\n",
       "      <td>7.870091</td>\n",
       "    </tr>\n",
       "    <tr>\n",
       "      <th>598</th>\n",
       "      <td>86112.0</td>\n",
       "      <td>-10.193976</td>\n",
       "      <td>10.521659</td>\n",
       "      <td>-7.699263</td>\n",
       "      <td>1</td>\n",
       "      <td>-42.415161</td>\n",
       "      <td>3.027484</td>\n",
       "    </tr>\n",
       "    <tr>\n",
       "      <th>599</th>\n",
       "      <td>86256.0</td>\n",
       "      <td>-9.198203</td>\n",
       "      <td>14.526011</td>\n",
       "      <td>129.261561</td>\n",
       "      <td>1</td>\n",
       "      <td>88.919337</td>\n",
       "      <td>6.346832</td>\n",
       "    </tr>\n",
       "    <tr>\n",
       "      <th>2199</th>\n",
       "      <td>316656.0</td>\n",
       "      <td>-10.211957</td>\n",
       "      <td>10.884456</td>\n",
       "      <td>-79.225111</td>\n",
       "      <td>1</td>\n",
       "      <td>-105.297673</td>\n",
       "      <td>7.515875</td>\n",
       "    </tr>\n",
       "    <tr>\n",
       "      <th>2959</th>\n",
       "      <td>426096.0</td>\n",
       "      <td>-9.841165</td>\n",
       "      <td>2.073174</td>\n",
       "      <td>-159.829039</td>\n",
       "      <td>1</td>\n",
       "      <td>-167.397216</td>\n",
       "      <td>11.948379</td>\n",
       "    </tr>\n",
       "    <tr>\n",
       "      <th>2969</th>\n",
       "      <td>427536.0</td>\n",
       "      <td>-9.084614</td>\n",
       "      <td>1.396306</td>\n",
       "      <td>-249.912197</td>\n",
       "      <td>1</td>\n",
       "      <td>-255.845677</td>\n",
       "      <td>18.261601</td>\n",
       "    </tr>\n",
       "    <tr>\n",
       "      <th>3199</th>\n",
       "      <td>460656.0</td>\n",
       "      <td>-8.680343</td>\n",
       "      <td>-1.516141</td>\n",
       "      <td>-51.002423</td>\n",
       "      <td>1</td>\n",
       "      <td>-50.751368</td>\n",
       "      <td>3.622501</td>\n",
       "    </tr>\n",
       "    <tr>\n",
       "      <th>3299</th>\n",
       "      <td>475056.0</td>\n",
       "      <td>-8.755255</td>\n",
       "      <td>1.064861</td>\n",
       "      <td>-200.202596</td>\n",
       "      <td>1</td>\n",
       "      <td>-203.489783</td>\n",
       "      <td>14.524573</td>\n",
       "    </tr>\n",
       "    <tr>\n",
       "      <th>997</th>\n",
       "      <td>143568.0</td>\n",
       "      <td>-10.366993</td>\n",
       "      <td>18.518324</td>\n",
       "      <td>83.099934</td>\n",
       "      <td>1</td>\n",
       "      <td>38.067007</td>\n",
       "      <td>3.220439</td>\n",
       "    </tr>\n",
       "    <tr>\n",
       "      <th>1419</th>\n",
       "      <td>204336.0</td>\n",
       "      <td>-11.393374</td>\n",
       "      <td>18.482714</td>\n",
       "      <td>4.615501</td>\n",
       "      <td>1</td>\n",
       "      <td>-39.050074</td>\n",
       "      <td>3.303605</td>\n",
       "    </tr>\n",
       "    <tr>\n",
       "      <th>2426</th>\n",
       "      <td>349344.0</td>\n",
       "      <td>-10.180798</td>\n",
       "      <td>8.589090</td>\n",
       "      <td>-15.949644</td>\n",
       "      <td>1</td>\n",
       "      <td>-37.626978</td>\n",
       "      <td>3.183213</td>\n",
       "    </tr>\n",
       "  </tbody>\n",
       "</table>\n",
       "</div>"
      ],
      "text/plain": [
       "      t_minute  W_Level_m     Temp_c   micro_strain  1              r  \\\n",
       "2499  359856.0  -9.546883   4.179788  -13249.534019  1  -13168.868657   \n",
       "3049  439056.0  -8.371391   2.103995 -198650.876347  1 -198470.685617   \n",
       "49      7056.0  -7.063081   0.455863     162.453175  1     142.538420   \n",
       "199    28656.0  -8.437181   4.772817     108.528192  1      81.751969   \n",
       "349    50256.0  -8.590828   9.051048     130.877250  1      98.125352   \n",
       "499    71856.0  -9.240080  13.418814     149.463749  1     110.260252   \n",
       "598    86112.0 -10.193976  10.521659      -7.699263  1     -42.415161   \n",
       "599    86256.0  -9.198203  14.526011     129.261561  1      88.919337   \n",
       "2199  316656.0 -10.211957  10.884456     -79.225111  1    -105.297673   \n",
       "2959  426096.0  -9.841165   2.073174    -159.829039  1    -167.397216   \n",
       "2969  427536.0  -9.084614   1.396306    -249.912197  1    -255.845677   \n",
       "3199  460656.0  -8.680343  -1.516141     -51.002423  1     -50.751368   \n",
       "3299  475056.0  -8.755255   1.064861    -200.202596  1    -203.489783   \n",
       "997   143568.0 -10.366993  18.518324      83.099934  1      38.067007   \n",
       "1419  204336.0 -11.393374  18.482714       4.615501  1     -39.050074   \n",
       "2426  349344.0 -10.180798   8.589090     -15.949644  1     -37.626978   \n",
       "\n",
       "              d  \n",
       "2499   3.997892  \n",
       "3049  60.253042  \n",
       "49    10.174023  \n",
       "199    5.835244  \n",
       "349    7.003933  \n",
       "499    7.870091  \n",
       "598    3.027484  \n",
       "599    6.346832  \n",
       "2199   7.515875  \n",
       "2959  11.948379  \n",
       "2969  18.261601  \n",
       "3199   3.622501  \n",
       "3299  14.524573  \n",
       "997    3.220439  \n",
       "1419   3.303605  \n",
       "2426   3.183213  "
      ]
     },
     "execution_count": 42,
     "metadata": {},
     "output_type": "execute_result"
    }
   ],
   "source": [
    "#create a loop\n",
    "df_e = df\n",
    "df_garbage = pd.DataFrame(columns=df_e.columns)\n",
    "outliner = 1\n",
    "while outliner >0:\n",
    "    #compute r_mean and r_stdv\n",
    "    r_mean = df_e['r'].mean()\n",
    "    r_stdv = df_e['r'].std()\n",
    "    #compute d_i\n",
    "    df_e['d'] = np.absolute(df_e['r'].to_numpy()-r_mean)/r_stdv\n",
    "    #collect garbage\n",
    "    df_tempo = df_e[df_e['d']>3]\n",
    "    df_garbage = df_garbage.append(df_tempo)\n",
    "    #remove outliners\n",
    "    df_e = df_e[df_e['d']<=3]\n",
    "    outliner = len(df_tempo)\n",
    "    print(outliner)\n",
    "    #repeat regression\n",
    "    A = df_e[[\"t_minute\",\"1\",\"Temp_c\",\"W_Level_m\"]].to_numpy()\n",
    "    y = df_e['micro_strain'].to_numpy()\n",
    "    A_transpose = np.transpose(A)\n",
    "    A_plus = np.matmul(np.linalg.inv(np.matmul(A_transpose,A)),A_transpose)\n",
    "    w_hat = np.matmul(A_plus,y)\n",
    "    r = y - np.matmul(A,w_hat)\n",
    "    df_e['r']=r\n",
    "df_garbage"
   ]
  },
  {
   "cell_type": "code",
   "execution_count": 43,
   "metadata": {},
   "outputs": [
    {
     "data": {
      "text/plain": [
       "count    3.635000e+03\n",
       "mean    -2.116936e-13\n",
       "std      1.177409e+01\n",
       "min     -3.463404e+01\n",
       "25%     -7.951962e+00\n",
       "50%      3.046453e-02\n",
       "75%      8.076573e+00\n",
       "max      3.528720e+01\n",
       "Name: r, dtype: float64"
      ]
     },
     "execution_count": 43,
     "metadata": {},
     "output_type": "execute_result"
    }
   ],
   "source": [
    "df_e['r'].describe()"
   ]
  },
  {
   "cell_type": "code",
   "execution_count": 44,
   "metadata": {},
   "outputs": [
    {
     "data": {
      "text/plain": [
       "<AxesSubplot:xlabel='t_minute', ylabel='r'>"
      ]
     },
     "execution_count": 44,
     "metadata": {},
     "output_type": "execute_result"
    },
    {
     "data": {
      "image/png": "[encoded data removed]",
      "text/plain": [
       "<Figure size 432x288 with 1 Axes>"
      ]
     },
     "metadata": {
      "needs_background": "light"
     },
     "output_type": "display_data"
    }
   ],
   "source": [
    "sns.scatterplot(data=df_e, x=\"t_minute\", y=\"r\")"
   ]
  },
  {
   "cell_type": "code",
   "execution_count": 45,
   "metadata": {},
   "outputs": [
    {
     "data": {
      "text/plain": [
       "array([-3.75975974e-05,  1.14879353e+01,  1.55176808e+00, -9.86864597e-01])"
      ]
     },
     "execution_count": 45,
     "metadata": {},
     "output_type": "execute_result"
    }
   ],
   "source": [
    "w_hat"
   ]
  },
  {
   "cell_type": "code",
   "execution_count": 46,
   "metadata": {},
   "outputs": [
    {
     "name": "stdout",
     "output_type": "stream",
     "text": [
      "11.375142474904486\n",
      "-87.31855079377345\n"
     ]
    }
   ],
   "source": [
    "alph = w_hat[0]\n",
    "beta = w_hat[1]\n",
    "gamm = w_hat[2]\n",
    "delt = w_hat[3]\n",
    "print(q_t(3000))\n",
    "print(q_t(min_from_year(5)))"
   ]
  },
  {
   "cell_type": "code",
   "execution_count": null,
   "metadata": {},
   "outputs": [],
   "source": []
  }
 ],
 "metadata": {
  "interpreter": {
   "hash": "b3ba2566441a7c06988d0923437866b63cedc61552a5af99d1f4fb67d367b25f"
  },
  "kernelspec": {
   "display_name": "Python 3.8.8 64-bit ('base': conda)",
   "name": "python3"
  },
  "language_info": {
   "codemirror_mode": {
    "name": "ipython",
    "version": 3
   },
   "file_extension": ".py",
   "mimetype": "text/x-python",
   "name": "python",
   "nbconvert_exporter": "python",
   "pygments_lexer": "ipython3",
   "version": "3.8.8"
  },
  "orig_nbformat": 4
 },
 "nbformat": 4,
 "nbformat_minor": 2
}
